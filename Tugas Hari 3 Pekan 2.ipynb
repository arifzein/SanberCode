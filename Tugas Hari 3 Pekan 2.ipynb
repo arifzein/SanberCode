{
 "cells": [
  {
   "cell_type": "markdown",
   "metadata": {
    "colab_type": "text",
    "id": "0kQhZ-5bKrxR"
   },
   "source": [
    "<h2>Soal 1: Pivoting and Melting</h2>\n",
    "\n",
    "Jelaskan itu pivoting dan melting data"
   ]
  },
  {
   "cell_type": "markdown",
   "metadata": {
    "colab_type": "text",
    "id": "O7OpqeB9KrxX"
   },
   "source": [
    "jawaban:\n",
    "\n",
    "Pivoting adalah suatu pengubahan bentuk data dengan memutar data yang terletak di baris menjadi di column. Melting adalah ‘unpivoting’, melting mengubah suatu data dengan memutar dari yang tadinya berada di posisi column menjadi di posisi row."
   ]
  },
  {
   "cell_type": "markdown",
   "metadata": {
    "colab_type": "text",
    "id": "jImnOOlTKrxa"
   },
   "source": [
    "<h2>Soal 2: Data structure Comprehension</h2>\n",
    "\n",
    "Data yang rapi adalah:\n",
    "1. Setiap row menunjukan suatu unit observasi\n",
    "2. Setiap column merupakan suatu unit variable\n",
    "\n",
    "Bagaimana pun, dalam menentukan unit observasi itu tergantung dari kasus yang di hadapi. sebagai seorang data scientist pasti akan menemukan berbagai bentuk struktur data. adalah sangat penting bagi seorang data scientist untuk dapat memahami dan menjelaskan setiap struktur data. Kemampuan memahami hubungan antara index baris, column dan isi data adalah kunci untuk memahami informasi apa yang data sedang beritahukan kepada kita.\n",
    "\n",
    "Di bawah ini terdapat 2 data yang berisi sama, tetapi memiliki struktur yang berbeda. Jelaskan perbedaan dari 2 struktur data tersebut\n",
    "\n",
    "data pertama adalah pivot sedangkan data kedua bukan pivot"
   ]
  },
  {
   "cell_type": "markdown",
   "metadata": {
    "colab_type": "text",
    "id": "HYtZqGxLKrxc"
   },
   "source": [
    "![alt text](https://drive.google.com/uc?id=1h13CDPzIjc-2XyRcyu-p1fet0Ep1gdMA)"
   ]
  },
  {
   "cell_type": "markdown",
   "metadata": {
    "colab_type": "text",
    "id": "nn4EuLbnKrxf"
   },
   "source": [
    "![alt text](https://drive.google.com/uc?id=12ji98ell5tNcCxeBzl4v8qqBtFMgDSr0)"
   ]
  },
  {
   "cell_type": "markdown",
   "metadata": {
    "colab_type": "text",
    "id": "_fixNOUAKrxh"
   },
   "source": []
  },
  {
   "cell_type": "markdown",
   "metadata": {
    "colab_type": "text",
    "id": "Vxig2IeYKrxj"
   },
   "source": [
    "<h2>Soal 3: Reshaping Data 1</h2>"
   ]
  },
  {
   "cell_type": "code",
   "execution_count": 43,
   "metadata": {
    "colab": {},
    "colab_type": "code",
    "id": "4Jp7bLWNKrxl",
    "outputId": "8d4a7776-1464-4de3-f18b-3a6c79c65800"
   },
   "outputs": [
    {
     "data": {
      "text/html": [
       "<div>\n",
       "<style scoped>\n",
       "    .dataframe tbody tr th:only-of-type {\n",
       "        vertical-align: middle;\n",
       "    }\n",
       "\n",
       "    .dataframe tbody tr th {\n",
       "        vertical-align: top;\n",
       "    }\n",
       "\n",
       "    .dataframe thead th {\n",
       "        text-align: right;\n",
       "    }\n",
       "</style>\n",
       "<table border=\"1\" class=\"dataframe\">\n",
       "  <thead>\n",
       "    <tr style=\"text-align: right;\">\n",
       "      <th></th>\n",
       "      <th>Tipe Ujian</th>\n",
       "      <th>Mata Pelajaran</th>\n",
       "      <th>Rata2 Waktu Belajar (menit)</th>\n",
       "      <th>Rata2 Nilai Ujian</th>\n",
       "    </tr>\n",
       "  </thead>\n",
       "  <tbody>\n",
       "    <tr>\n",
       "      <th>0</th>\n",
       "      <td>UTS1</td>\n",
       "      <td>Fisika</td>\n",
       "      <td>565</td>\n",
       "      <td>90</td>\n",
       "    </tr>\n",
       "    <tr>\n",
       "      <th>1</th>\n",
       "      <td>UAS1</td>\n",
       "      <td>Fisika</td>\n",
       "      <td>545</td>\n",
       "      <td>73</td>\n",
       "    </tr>\n",
       "    <tr>\n",
       "      <th>2</th>\n",
       "      <td>UTS2</td>\n",
       "      <td>Fisika</td>\n",
       "      <td>321</td>\n",
       "      <td>65</td>\n",
       "    </tr>\n",
       "    <tr>\n",
       "      <th>3</th>\n",
       "      <td>UAS2</td>\n",
       "      <td>Fisika</td>\n",
       "      <td>518</td>\n",
       "      <td>96</td>\n",
       "    </tr>\n",
       "    <tr>\n",
       "      <th>4</th>\n",
       "      <td>UTS1</td>\n",
       "      <td>Matematika</td>\n",
       "      <td>459</td>\n",
       "      <td>70</td>\n",
       "    </tr>\n",
       "    <tr>\n",
       "      <th>5</th>\n",
       "      <td>UAS1</td>\n",
       "      <td>Matematika</td>\n",
       "      <td>520</td>\n",
       "      <td>90</td>\n",
       "    </tr>\n",
       "    <tr>\n",
       "      <th>6</th>\n",
       "      <td>UTS2</td>\n",
       "      <td>Matematika</td>\n",
       "      <td>556</td>\n",
       "      <td>93</td>\n",
       "    </tr>\n",
       "    <tr>\n",
       "      <th>7</th>\n",
       "      <td>UAS2</td>\n",
       "      <td>Matematika</td>\n",
       "      <td>678</td>\n",
       "      <td>49</td>\n",
       "    </tr>\n",
       "    <tr>\n",
       "      <th>8</th>\n",
       "      <td>UTS1</td>\n",
       "      <td>Statistika</td>\n",
       "      <td>475</td>\n",
       "      <td>60</td>\n",
       "    </tr>\n",
       "    <tr>\n",
       "      <th>9</th>\n",
       "      <td>UAS1</td>\n",
       "      <td>Statistika</td>\n",
       "      <td>273</td>\n",
       "      <td>51</td>\n",
       "    </tr>\n",
       "    <tr>\n",
       "      <th>10</th>\n",
       "      <td>UTS2</td>\n",
       "      <td>Statistika</td>\n",
       "      <td>332</td>\n",
       "      <td>76</td>\n",
       "    </tr>\n",
       "    <tr>\n",
       "      <th>11</th>\n",
       "      <td>UAS2</td>\n",
       "      <td>Statistika</td>\n",
       "      <td>200</td>\n",
       "      <td>40</td>\n",
       "    </tr>\n",
       "  </tbody>\n",
       "</table>\n",
       "</div>"
      ],
      "text/plain": [
       "   Tipe Ujian Mata Pelajaran  Rata2 Waktu Belajar (menit)  Rata2 Nilai Ujian\n",
       "0        UTS1         Fisika                          565                 90\n",
       "1        UAS1         Fisika                          545                 73\n",
       "2        UTS2         Fisika                          321                 65\n",
       "3        UAS2         Fisika                          518                 96\n",
       "4        UTS1     Matematika                          459                 70\n",
       "5        UAS1     Matematika                          520                 90\n",
       "6        UTS2     Matematika                          556                 93\n",
       "7        UAS2     Matematika                          678                 49\n",
       "8        UTS1     Statistika                          475                 60\n",
       "9        UAS1     Statistika                          273                 51\n",
       "10       UTS2     Statistika                          332                 76\n",
       "11       UAS2     Statistika                          200                 40"
      ]
     },
     "execution_count": 43,
     "metadata": {},
     "output_type": "execute_result"
    }
   ],
   "source": [
    "import pandas as pd\n",
    "import random\n",
    "\n",
    "data = {\n",
    "    'Tipe Ujian' : ['UTS1', 'UAS1', 'UTS2', 'UAS2']*3,\n",
    "    'Mata Pelajaran' : ['Fisika']*4 + ['Matematika']*4+['Statistika']*4,\n",
    "    'Rata2 Waktu Belajar (menit)' : [random.choice(range(200, 800)) for i in range(12)],\n",
    "    'Rata2 Nilai Ujian' : [random.choice(range(40, 100)) for i in range(12)] \n",
    "}\n",
    "df = pd.DataFrame(data)\n",
    "df"
   ]
  },
  {
   "cell_type": "markdown",
   "metadata": {
    "colab_type": "text",
    "id": "G3yKJFwTKrx8"
   },
   "source": [
    "Perhatikan data di atas, kemudian ubahlah bentuknya agar sesuai yang di harapkan."
   ]
  },
  {
   "cell_type": "code",
   "execution_count": 44,
   "metadata": {
    "colab": {},
    "colab_type": "code",
    "id": "ztFDyKDYKrx-"
   },
   "outputs": [
    {
     "data": {
      "text/html": [
       "<div>\n",
       "<style scoped>\n",
       "    .dataframe tbody tr th:only-of-type {\n",
       "        vertical-align: middle;\n",
       "    }\n",
       "\n",
       "    .dataframe tbody tr th {\n",
       "        vertical-align: top;\n",
       "    }\n",
       "\n",
       "    .dataframe thead tr th {\n",
       "        text-align: left;\n",
       "    }\n",
       "\n",
       "    .dataframe thead tr:last-of-type th {\n",
       "        text-align: right;\n",
       "    }\n",
       "</style>\n",
       "<table border=\"1\" class=\"dataframe\">\n",
       "  <thead>\n",
       "    <tr>\n",
       "      <th></th>\n",
       "      <th colspan=\"3\" halign=\"left\">p1</th>\n",
       "      <th colspan=\"3\" halign=\"left\">p2</th>\n",
       "    </tr>\n",
       "    <tr>\n",
       "      <th>Mata Pelajaran</th>\n",
       "      <th>Fisika</th>\n",
       "      <th>Matematika</th>\n",
       "      <th>Statistika</th>\n",
       "      <th>Fisika</th>\n",
       "      <th>Matematika</th>\n",
       "      <th>Statistika</th>\n",
       "    </tr>\n",
       "    <tr>\n",
       "      <th>Tipe Ujian</th>\n",
       "      <th></th>\n",
       "      <th></th>\n",
       "      <th></th>\n",
       "      <th></th>\n",
       "      <th></th>\n",
       "      <th></th>\n",
       "    </tr>\n",
       "  </thead>\n",
       "  <tbody>\n",
       "    <tr>\n",
       "      <th>UAS1</th>\n",
       "      <td>73</td>\n",
       "      <td>90</td>\n",
       "      <td>51</td>\n",
       "      <td>545</td>\n",
       "      <td>520</td>\n",
       "      <td>273</td>\n",
       "    </tr>\n",
       "    <tr>\n",
       "      <th>UAS2</th>\n",
       "      <td>96</td>\n",
       "      <td>49</td>\n",
       "      <td>40</td>\n",
       "      <td>518</td>\n",
       "      <td>678</td>\n",
       "      <td>200</td>\n",
       "    </tr>\n",
       "    <tr>\n",
       "      <th>UTS1</th>\n",
       "      <td>90</td>\n",
       "      <td>70</td>\n",
       "      <td>60</td>\n",
       "      <td>565</td>\n",
       "      <td>459</td>\n",
       "      <td>475</td>\n",
       "    </tr>\n",
       "    <tr>\n",
       "      <th>UTS2</th>\n",
       "      <td>65</td>\n",
       "      <td>93</td>\n",
       "      <td>76</td>\n",
       "      <td>321</td>\n",
       "      <td>556</td>\n",
       "      <td>332</td>\n",
       "    </tr>\n",
       "  </tbody>\n",
       "</table>\n",
       "</div>"
      ],
      "text/plain": [
       "                   p1                           p2                      \n",
       "Mata Pelajaran Fisika Matematika Statistika Fisika Matematika Statistika\n",
       "Tipe Ujian                                                              \n",
       "UAS1               73         90         51    545        520        273\n",
       "UAS2               96         49         40    518        678        200\n",
       "UTS1               90         70         60    565        459        475\n",
       "UTS2               65         93         76    321        556        332"
      ]
     },
     "execution_count": 44,
     "metadata": {},
     "output_type": "execute_result"
    }
   ],
   "source": [
    "# code here\n",
    "p1 = df.pivot_table(index='Tipe Ujian',values='Rata2 Nilai Ujian', columns='Mata Pelajaran')\n",
    "p2 = df.pivot_table(index='Tipe Ujian',values='Rata2 Waktu Belajar (menit)', columns='Mata Pelajaran')\n",
    "\n",
    "#print(p1)\n",
    "#print(p2)\n",
    "\n",
    "pd.concat([p1, p2], axis=1, keys=['p1', 'p2'])"
   ]
  },
  {
   "cell_type": "markdown",
   "metadata": {
    "colab_type": "text",
    "id": "xA8ZlQErKryO"
   },
   "source": [
    "Expected Result:\n",
    "\n",
    "![alt text](https://drive.google.com/uc?id=1XufsfqZe7-XZLsb92SpATexy-QRZE0ow)"
   ]
  },
  {
   "cell_type": "markdown",
   "metadata": {
    "colab_type": "text",
    "id": "pXb8LRDWKryQ"
   },
   "source": [
    "<h2>Soal 4: Reshaping Data 2</h2>"
   ]
  },
  {
   "cell_type": "code",
   "execution_count": 81,
   "metadata": {
    "colab": {},
    "colab_type": "code",
    "id": "LHe2XZyNKryS",
    "outputId": "74fd1590-9eb9-4a84-c1f5-a33a0379a7ee"
   },
   "outputs": [
    {
     "data": {
      "text/html": [
       "<div>\n",
       "<style scoped>\n",
       "    .dataframe tbody tr th:only-of-type {\n",
       "        vertical-align: middle;\n",
       "    }\n",
       "\n",
       "    .dataframe tbody tr th {\n",
       "        vertical-align: top;\n",
       "    }\n",
       "\n",
       "    .dataframe thead th {\n",
       "        text-align: right;\n",
       "    }\n",
       "</style>\n",
       "<table border=\"1\" class=\"dataframe\">\n",
       "  <thead>\n",
       "    <tr style=\"text-align: right;\">\n",
       "      <th></th>\n",
       "      <th>Kebun Binatang</th>\n",
       "      <th>Dufan</th>\n",
       "      <th>Disney</th>\n",
       "      <th>Bali</th>\n",
       "    </tr>\n",
       "    <tr>\n",
       "      <th>Hari</th>\n",
       "      <th></th>\n",
       "      <th></th>\n",
       "      <th></th>\n",
       "      <th></th>\n",
       "    </tr>\n",
       "  </thead>\n",
       "  <tbody>\n",
       "    <tr>\n",
       "      <th>Sabtu</th>\n",
       "      <td>271</td>\n",
       "      <td>501</td>\n",
       "      <td>1000</td>\n",
       "      <td>900</td>\n",
       "    </tr>\n",
       "    <tr>\n",
       "      <th>Minggu</th>\n",
       "      <td>399</td>\n",
       "      <td>700</td>\n",
       "      <td>1001</td>\n",
       "      <td>803</td>\n",
       "    </tr>\n",
       "  </tbody>\n",
       "</table>\n",
       "</div>"
      ],
      "text/plain": [
       "        Kebun Binatang  Dufan  Disney  Bali\n",
       "Hari                                       \n",
       "Sabtu              271    501    1000   900\n",
       "Minggu             399    700    1001   803"
      ]
     },
     "execution_count": 81,
     "metadata": {},
     "output_type": "execute_result"
    }
   ],
   "source": [
    "import pandas as pd\n",
    "\n",
    "data = {\n",
    "    'Hari' : ['Sabtu', 'Minggu'],\n",
    "    'Kebun Binatang' : [271, 399],\n",
    "    'Dufan' : [501, 700],\n",
    "    'Disney' : [1000, 1001],\n",
    "    'Bali' : [900, 803]\n",
    "}\n",
    "df = pd.DataFrame(data).set_index('Hari')\n",
    "df\n"
   ]
  },
  {
   "cell_type": "markdown",
   "metadata": {
    "colab_type": "text",
    "id": "w87S4Xl_Kryg"
   },
   "source": [
    "diatas adalah data tentang jumlah pengunjung di berbagai tempat hiburan, ubahlah struktur data tersebut sehingga sesuai dengan hasil yang diharapkan."
   ]
  },
  {
   "cell_type": "code",
   "execution_count": 82,
   "metadata": {},
   "outputs": [
    {
     "data": {
      "text/html": [
       "<div>\n",
       "<style scoped>\n",
       "    .dataframe tbody tr th:only-of-type {\n",
       "        vertical-align: middle;\n",
       "    }\n",
       "\n",
       "    .dataframe tbody tr th {\n",
       "        vertical-align: top;\n",
       "    }\n",
       "\n",
       "    .dataframe thead th {\n",
       "        text-align: right;\n",
       "    }\n",
       "</style>\n",
       "<table border=\"1\" class=\"dataframe\">\n",
       "  <thead>\n",
       "    <tr style=\"text-align: right;\">\n",
       "      <th></th>\n",
       "      <th>Hari</th>\n",
       "      <th>Tempat Hiburan</th>\n",
       "      <th>Pengunjung</th>\n",
       "    </tr>\n",
       "  </thead>\n",
       "  <tbody>\n",
       "    <tr>\n",
       "      <th>0</th>\n",
       "      <td>Sabtu</td>\n",
       "      <td>Kebun Binatang</td>\n",
       "      <td>271</td>\n",
       "    </tr>\n",
       "    <tr>\n",
       "      <th>1</th>\n",
       "      <td>Minggu</td>\n",
       "      <td>Kebun Binatang</td>\n",
       "      <td>399</td>\n",
       "    </tr>\n",
       "    <tr>\n",
       "      <th>2</th>\n",
       "      <td>Sabtu</td>\n",
       "      <td>Dufan</td>\n",
       "      <td>501</td>\n",
       "    </tr>\n",
       "    <tr>\n",
       "      <th>3</th>\n",
       "      <td>Minggu</td>\n",
       "      <td>Dufan</td>\n",
       "      <td>700</td>\n",
       "    </tr>\n",
       "    <tr>\n",
       "      <th>4</th>\n",
       "      <td>Sabtu</td>\n",
       "      <td>Disney</td>\n",
       "      <td>1000</td>\n",
       "    </tr>\n",
       "    <tr>\n",
       "      <th>5</th>\n",
       "      <td>Minggu</td>\n",
       "      <td>Disney</td>\n",
       "      <td>1001</td>\n",
       "    </tr>\n",
       "    <tr>\n",
       "      <th>6</th>\n",
       "      <td>Sabtu</td>\n",
       "      <td>Bali</td>\n",
       "      <td>900</td>\n",
       "    </tr>\n",
       "    <tr>\n",
       "      <th>7</th>\n",
       "      <td>Minggu</td>\n",
       "      <td>Bali</td>\n",
       "      <td>803</td>\n",
       "    </tr>\n",
       "  </tbody>\n",
       "</table>\n",
       "</div>"
      ],
      "text/plain": [
       "     Hari  Tempat Hiburan  Pengunjung\n",
       "0   Sabtu  Kebun Binatang         271\n",
       "1  Minggu  Kebun Binatang         399\n",
       "2   Sabtu           Dufan         501\n",
       "3  Minggu           Dufan         700\n",
       "4   Sabtu          Disney        1000\n",
       "5  Minggu          Disney        1001\n",
       "6   Sabtu            Bali         900\n",
       "7  Minggu            Bali         803"
      ]
     },
     "execution_count": 82,
     "metadata": {},
     "output_type": "execute_result"
    }
   ],
   "source": [
    "#df.reset_index()\n",
    "df.reset_index(inplace=True)\n",
    "#df.melt(df,id_vars=['Hari'],value_vars=['Kebun Binatang'],var_name='Tempat Hiburan',value_name='Pengunjung')\n",
    "df\n",
    "pd.melt(df,id_vars=['Hari'],value_vars=['Kebun Binatang','Dufan','Disney','Bali'],var_name='Tempat Hiburan',value_name='Pengunjung')"
   ]
  },
  {
   "cell_type": "markdown",
   "metadata": {
    "colab_type": "text",
    "id": "d7_5dDsRKryi"
   },
   "source": [
    "Expected Result:\n",
    "\n",
    "![alt text](https://drive.google.com/uc?id=159mIqcyfeD30EEcyZmmkovORa6cZDLtn)"
   ]
  },
  {
   "cell_type": "markdown",
   "metadata": {
    "colab_type": "text",
    "id": "GGHgeYkEKryk"
   },
   "source": [
    "<h2>Soal 5: Pivoting and Aggregating</h2>"
   ]
  },
  {
   "cell_type": "code",
   "execution_count": 85,
   "metadata": {
    "colab": {},
    "colab_type": "code",
    "id": "iKMM155KKryn",
    "outputId": "19a22476-9193-4a03-d93f-aa7aa58f5bcd"
   },
   "outputs": [
    {
     "data": {
      "text/html": [
       "<div>\n",
       "<style scoped>\n",
       "    .dataframe tbody tr th:only-of-type {\n",
       "        vertical-align: middle;\n",
       "    }\n",
       "\n",
       "    .dataframe tbody tr th {\n",
       "        vertical-align: top;\n",
       "    }\n",
       "\n",
       "    .dataframe thead th {\n",
       "        text-align: right;\n",
       "    }\n",
       "</style>\n",
       "<table border=\"1\" class=\"dataframe\">\n",
       "  <thead>\n",
       "    <tr style=\"text-align: right;\">\n",
       "      <th></th>\n",
       "      <th>Mata Pelajaran</th>\n",
       "      <th>Jumlah Peserta</th>\n",
       "    </tr>\n",
       "    <tr>\n",
       "      <th>Tipe Ujian</th>\n",
       "      <th></th>\n",
       "      <th></th>\n",
       "    </tr>\n",
       "  </thead>\n",
       "  <tbody>\n",
       "    <tr>\n",
       "      <th>UTS1</th>\n",
       "      <td>Statistika</td>\n",
       "      <td>14</td>\n",
       "    </tr>\n",
       "    <tr>\n",
       "      <th>UAS1</th>\n",
       "      <td>Fisika</td>\n",
       "      <td>17</td>\n",
       "    </tr>\n",
       "    <tr>\n",
       "      <th>UTS1</th>\n",
       "      <td>Fisika</td>\n",
       "      <td>12</td>\n",
       "    </tr>\n",
       "    <tr>\n",
       "      <th>UAS1</th>\n",
       "      <td>Statistika</td>\n",
       "      <td>16</td>\n",
       "    </tr>\n",
       "    <tr>\n",
       "      <th>UTS1</th>\n",
       "      <td>Fisika</td>\n",
       "      <td>14</td>\n",
       "    </tr>\n",
       "    <tr>\n",
       "      <th>UAS1</th>\n",
       "      <td>Statistika</td>\n",
       "      <td>13</td>\n",
       "    </tr>\n",
       "  </tbody>\n",
       "</table>\n",
       "</div>"
      ],
      "text/plain": [
       "           Mata Pelajaran  Jumlah Peserta\n",
       "Tipe Ujian                               \n",
       "UTS1           Statistika              14\n",
       "UAS1               Fisika              17\n",
       "UTS1               Fisika              12\n",
       "UAS1           Statistika              16\n",
       "UTS1               Fisika              14\n",
       "UAS1           Statistika              13"
      ]
     },
     "execution_count": 85,
     "metadata": {},
     "output_type": "execute_result"
    }
   ],
   "source": [
    "import pandas as pd\n",
    "\n",
    "data = {\n",
    "    'Tipe Ujian' : ['UTS1', 'UAS1']*3,\n",
    "    'Mata Pelajaran' :['Statistika', 'Fisika', 'Fisika', 'Statistika', 'Fisika', 'Statistika'],\n",
    "    'Jumlah Peserta' : [14, 17, 12, 16, 14, 13]\n",
    "}\n",
    "df = pd.DataFrame(data).set_index('Tipe Ujian')\n",
    "df"
   ]
  },
  {
   "cell_type": "markdown",
   "metadata": {
    "colab_type": "text",
    "id": "odnDYRM3Kryz"
   },
   "source": [
    "Perhatikan bahwa data jumlah peserta ujian untuk suatu tipe ujian dan mata pelajaran tertentu ada yang duplikat, ubahlah struktur data tersebut dan lakukan aggregasi berjenis jumlah sehingga sesuai dengan hasil yang di harapkan\n",
    "\n",
    "Expected Result:\n",
    "\n",
    "![alt text](https://drive.google.com/uc?id=1emoz7orYR-0mCHffvAgM8j-V1P6yVHf0)"
   ]
  },
  {
   "cell_type": "code",
   "execution_count": 87,
   "metadata": {
    "colab": {},
    "colab_type": "code",
    "id": "gLKJlUYgKry3"
   },
   "outputs": [
    {
     "data": {
      "text/html": [
       "<div>\n",
       "<style scoped>\n",
       "    .dataframe tbody tr th:only-of-type {\n",
       "        vertical-align: middle;\n",
       "    }\n",
       "\n",
       "    .dataframe tbody tr th {\n",
       "        vertical-align: top;\n",
       "    }\n",
       "\n",
       "    .dataframe thead tr th {\n",
       "        text-align: left;\n",
       "    }\n",
       "\n",
       "    .dataframe thead tr:last-of-type th {\n",
       "        text-align: right;\n",
       "    }\n",
       "</style>\n",
       "<table border=\"1\" class=\"dataframe\">\n",
       "  <thead>\n",
       "    <tr>\n",
       "      <th></th>\n",
       "      <th colspan=\"2\" halign=\"left\">Jumlah Peserta</th>\n",
       "    </tr>\n",
       "    <tr>\n",
       "      <th>Mata Pelajaran</th>\n",
       "      <th>Fisika</th>\n",
       "      <th>Statistika</th>\n",
       "    </tr>\n",
       "    <tr>\n",
       "      <th>Tipe Ujian</th>\n",
       "      <th></th>\n",
       "      <th></th>\n",
       "    </tr>\n",
       "  </thead>\n",
       "  <tbody>\n",
       "    <tr>\n",
       "      <th>UAS1</th>\n",
       "      <td>17</td>\n",
       "      <td>29</td>\n",
       "    </tr>\n",
       "    <tr>\n",
       "      <th>UTS1</th>\n",
       "      <td>26</td>\n",
       "      <td>14</td>\n",
       "    </tr>\n",
       "  </tbody>\n",
       "</table>\n",
       "</div>"
      ],
      "text/plain": [
       "               Jumlah Peserta           \n",
       "Mata Pelajaran         Fisika Statistika\n",
       "Tipe Ujian                              \n",
       "UAS1                       17         29\n",
       "UTS1                       26         14"
      ]
     },
     "execution_count": 87,
     "metadata": {},
     "output_type": "execute_result"
    }
   ],
   "source": [
    "#Code here\n",
    "import numpy as np\n",
    "pd.pivot_table(df, columns='Mata Pelajaran',values=['Jumlah Peserta'], index=['Tipe Ujian'],aggfunc=np.sum)"
   ]
  },
  {
   "cell_type": "code",
   "execution_count": null,
   "metadata": {},
   "outputs": [],
   "source": []
  }
 ],
 "metadata": {
  "colab": {
   "collapsed_sections": [],
   "name": "Tugas Hari 3 Pekan 2.ipynb",
   "provenance": []
  },
  "kernelspec": {
   "display_name": "Python 3",
   "language": "python",
   "name": "python3"
  },
  "language_info": {
   "codemirror_mode": {
    "name": "ipython",
    "version": 3
   },
   "file_extension": ".py",
   "mimetype": "text/x-python",
   "name": "python",
   "nbconvert_exporter": "python",
   "pygments_lexer": "ipython3",
   "version": "3.8.3"
  }
 },
 "nbformat": 4,
 "nbformat_minor": 1
}
