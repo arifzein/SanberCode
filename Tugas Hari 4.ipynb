{
 "cells": [
  {
   "cell_type": "markdown",
   "metadata": {
    "colab_type": "text",
    "id": "1O3NGQSKzf_A"
   },
   "source": [
    "# List"
   ]
  },
  {
   "cell_type": "markdown",
   "metadata": {
    "colab_type": "text",
    "id": "m2VWq6g9szIv"
   },
   "source": [
    "<h2>Soal 1: Sifat List</h2>\n",
    "\n",
    "Jawab Pertanyaan di bawah ini:\n",
    "\n",
    "Jenis data apa saja yang bisa ada di dalam List?\n",
    "\n",
    "numerik, string, boolean"
   ]
  },
  {
   "cell_type": "markdown",
   "metadata": {
    "colab_type": "text",
    "id": "oUTuv3Me3izt"
   },
   "source": []
  },
  {
   "cell_type": "markdown",
   "metadata": {
    "colab_type": "text",
    "id": "XD1fT351szI2"
   },
   "source": [
    "<h2>Soal 2: Akses List</h2>\n",
    "\n",
    "Lengkapi kode untuk menghasilkan suatu output yang di harapkan"
   ]
  },
  {
   "cell_type": "code",
   "execution_count": 2,
   "metadata": {
    "colab": {},
    "colab_type": "code",
    "id": "qXKteY88szI5"
   },
   "outputs": [
    {
     "name": "stdout",
     "output_type": "stream",
     "text": [
      "['13b', 'aa1', 1.32, 22.1]\n"
     ]
    }
   ],
   "source": [
    "a = ['1', '13b', 'aa1', 1.32, 22.1, 2.34]\n",
    "# slicing list\n",
    "print(a[1:5])"
   ]
  },
  {
   "cell_type": "markdown",
   "metadata": {
    "colab_type": "text",
    "id": "4Qp2wjmOszJJ"
   },
   "source": [
    "Expected Output :\n",
    "\n",
    "[ '13b', 'aa1', 1.32, 22.1 ]"
   ]
  },
  {
   "cell_type": "markdown",
   "metadata": {
    "colab_type": "text",
    "id": "qf7YmOZzszJL"
   },
   "source": [
    "<h2>Soal 3: Nested List</h2>\n",
    "\n",
    "Lengkapi kode untuk menghasilkan suatu output yang di harapkan"
   ]
  },
  {
   "cell_type": "code",
   "execution_count": 4,
   "metadata": {},
   "outputs": [
    {
     "name": "stdout",
     "output_type": "stream",
     "text": [
      "[['ayah ucup', 19, 'ucup', 19, 'ibu ucup', 20], ['istri boy', 20, 'anak boy', 18, 'istri kedua boy', 21]]\n"
     ]
    }
   ],
   "source": [
    "# membuat list\n",
    "suhu_keluarga_ucup = [\n",
    "                'ayah ucup', 19, 'ucup', 19, 'ibu ucup', 20\n",
    "                ]\n",
    "suhu_keluarga_boy = [\n",
    "                'istri boy', 20, 'anak boy', 18, 'istri kedua boy', 21\n",
    "                ]\n",
    "\n",
    "# membuat list dalam list dan di campur dengan data boolean\n",
    "suhu_keluarga = [\n",
    "                suhu_keluarga_ucup, suhu_keluarga_boy \n",
    "                ]\n",
    "print(suhu_keluarga)"
   ]
  },
  {
   "cell_type": "code",
   "execution_count": 6,
   "metadata": {
    "colab": {},
    "colab_type": "code",
    "id": "JCac4gPfszJO"
   },
   "outputs": [
    {
     "name": "stdout",
     "output_type": "stream",
     "text": [
      "[[1.32, 22.1, 2.34], [3, 40, 100], ['1', '13b', 'aa1']]\n"
     ]
    }
   ],
   "source": [
    "a = [1.32, 22.1, 2.34]\n",
    "b = ['1', '13b', 'aa1']\n",
    "c = [3, 40, 100]\n",
    "# combine list\n",
    "d = [a,c,b ]\n",
    "print(d)"
   ]
  },
  {
   "cell_type": "markdown",
   "metadata": {
    "colab_type": "text",
    "id": "mNzKeR8hszJk"
   },
   "source": [
    "Expected Output :\n",
    "\n",
    "[ [1.32, 22.1, 2.34], [3, 40, 100], ['1', '13b', 'aa1'] ]"
   ]
  },
  {
   "cell_type": "markdown",
   "metadata": {
    "colab_type": "text",
    "id": "zKS3e_kTszJm"
   },
   "source": [
    "<h2>Soal 4: Akses Nested List</h2>\n",
    "\n",
    "Lengkapi kode untuk menghasilkan suatu output yang di harapkan"
   ]
  },
  {
   "cell_type": "code",
   "execution_count": 16,
   "metadata": {
    "colab": {},
    "colab_type": "code",
    "id": "IhFh_WCzszJo"
   },
   "outputs": [
    {
     "name": "stdout",
     "output_type": "stream",
     "text": [
      "[0, 6]\n"
     ]
    }
   ],
   "source": [
    "a = [\n",
    "    [5, 9, 8],\n",
    "    [0, 0, 6]\n",
    "    ]\n",
    "# subsetting list\n",
    "# print(a)\n",
    "print([a[1][1],a[1][2]])"
   ]
  },
  {
   "cell_type": "markdown",
   "metadata": {
    "colab_type": "text",
    "id": "mk5EMa6pszJ2"
   },
   "source": [
    "Expected Output :\n",
    "\n",
    "\n",
    "[0, 6]"
   ]
  },
  {
   "cell_type": "markdown",
   "metadata": {
    "colab_type": "text",
    "id": "sTVLtrqCszJ4"
   },
   "source": [
    "<h2>Soal 5: Built in Function List</h2>\n",
    "\n",
    "Lengkapi kode untuk menghasilkan suatu output yang di harapkan"
   ]
  },
  {
   "cell_type": "code",
   "execution_count": 19,
   "metadata": {
    "colab": {},
    "colab_type": "code",
    "id": "oCz3O7gAszJ6"
   },
   "outputs": [
    {
     "name": "stdout",
     "output_type": "stream",
     "text": [
      "[0, 2, 4, 5, 9, 10]\n",
      "10\n"
     ]
    }
   ],
   "source": [
    "p = [0, 5, 2, 10, 4, 9]\n",
    "# ordered list\n",
    "print(sorted(p, reverse=False))\n",
    "# get max value of list\n",
    "print(max(p))"
   ]
  },
  {
   "cell_type": "markdown",
   "metadata": {
    "colab_type": "text",
    "id": "Nejk71aWszKE"
   },
   "source": [
    "Expected Output :\n",
    "\n",
    "[0, 2, 4, 5, 9, 10]\n",
    "\n",
    "10"
   ]
  },
  {
   "cell_type": "markdown",
   "metadata": {
    "colab_type": "text",
    "id": "OEU53cA_szKG"
   },
   "source": [
    "<h2>Soal 6: List Operation</h2>\n",
    "\n",
    "Lengkapi kode untuk menghasilkan suatu output yang di harapkan"
   ]
  },
  {
   "cell_type": "code",
   "execution_count": 22,
   "metadata": {},
   "outputs": [
    {
     "name": "stdout",
     "output_type": "stream",
     "text": [
      "['a', 'b', 'c', 1, 2, 3]\n"
     ]
    }
   ],
   "source": [
    "list1 = [\"a\", \"b\" , \"c\"]\n",
    "list2 = [1, 2, 3]\n",
    "\n",
    "list3 = list1 + list2\n",
    "print(list3)"
   ]
  },
  {
   "cell_type": "code",
   "execution_count": 24,
   "metadata": {
    "colab": {},
    "colab_type": "code",
    "id": "N-dxC1qYszKJ"
   },
   "outputs": [
    {
     "name": "stdout",
     "output_type": "stream",
     "text": [
      "[5, 1, 3, 1, 3, 5]\n"
     ]
    }
   ],
   "source": [
    "a = [1, 3, 5]\n",
    "b = [5, 1, 3]\n",
    "# combine list\n",
    "print(b+a)"
   ]
  },
  {
   "cell_type": "markdown",
   "metadata": {
    "colab_type": "text",
    "id": "g0xy9HZrszKV"
   },
   "source": [
    "Expected Output :\n",
    "\n",
    "[5, 1, 3, 1, 3, 5]"
   ]
  },
  {
   "cell_type": "markdown",
   "metadata": {
    "colab_type": "text",
    "id": "cggENDN4szKX"
   },
   "source": [
    "<h2>Soal 7: List Manipulation</h2>\n",
    "\n",
    "Lengkapi kode untuk menghasilkan suatu output yang di harapkan"
   ]
  },
  {
   "cell_type": "code",
   "execution_count": 44,
   "metadata": {
    "colab": {},
    "colab_type": "code",
    "id": "GOZQAPg9szKa"
   },
   "outputs": [
    {
     "name": "stdout",
     "output_type": "stream",
     "text": [
      "[[5, 9, 10], [11, 0, 6]]\n"
     ]
    }
   ],
   "source": [
    "a = [\n",
    "    [5, 9, 8],\n",
    "    [0, 0, 6]\n",
    "    ]\n",
    "# change list value\n",
    "#suhu_keluarga_ucup[3] = 22\n",
    "#print(a[0][0:3])\n",
    "a[0][0:3] = [5,9,10]\n",
    "#print(a)\n",
    "# change list value\n",
    "#print(a[1][0:3])\n",
    "a[1][0:3] = [11,0,6]\n",
    "print(a)"
   ]
  },
  {
   "cell_type": "markdown",
   "metadata": {
    "colab_type": "text",
    "id": "iYHFRJW7szKl"
   },
   "source": [
    "Expected Output :\n",
    "\n",
    "[ [5, 9, 10], [11, 0, 6] ]"
   ]
  },
  {
   "cell_type": "markdown",
   "metadata": {
    "colab_type": "text",
    "id": "dSTDqY9iszKn"
   },
   "source": [
    "<h2>Soal 8: Delete Element List</h2>\n",
    "\n",
    "Lengkapi kode untuk menghasilkan suatu output yang di harapkan"
   ]
  },
  {
   "cell_type": "code",
   "execution_count": 50,
   "metadata": {
    "colab": {},
    "colab_type": "code",
    "id": "hTQNLWiUszKq"
   },
   "outputs": [
    {
     "name": "stdout",
     "output_type": "stream",
     "text": [
      "['hallway', 11.25, 'kitchen', 18.0, 'chill zone', 20.0, 'bedroom', 10.75, 'poolhouse', 24.5, 'garage', 15.45]\n"
     ]
    }
   ],
   "source": [
    "areas = [\"hallway\", 11.25, \"kitchen\", 18.0,\n",
    "        \"chill zone\", 20.0, \"bedroom\", 10.75,\n",
    "         \"bathroom\", 10.50, \"poolhouse\", 24.5,\n",
    "         \"garage\", 15.45]\n",
    "\n",
    "# Hilangkan elemen yang bernilai \"bathroom\" dan 10.50 dalam satu statement code\n",
    "del areas[8:10]\n",
    "print(areas)"
   ]
  },
  {
   "cell_type": "markdown",
   "metadata": {
    "colab_type": "text",
    "id": "ZeF61jc_szK1"
   },
   "source": [
    "Expected Output:\n",
    "\n",
    "['hallway',\n",
    " 11.25,\n",
    " 'kitchen',\n",
    " 18.0,\n",
    " 'chill zone',\n",
    " 20.0,\n",
    " 'bedroom',\n",
    " 10.75,\n",
    " 'poolhouse',\n",
    " 24.5,\n",
    " 'garage',\n",
    " 15.45]\n",
    "\n"
   ]
  },
  {
   "cell_type": "markdown",
   "metadata": {
    "colab_type": "text",
    "id": "onKmJ3XqY5FN"
   },
   "source": [
    "## Soal 9: List Comprehension\n",
    "\n",
    "Gunakan metode **list comprehension** untuk mencari anggota dari S yang habis di bagi 2, kemudian assign hasilnya dalam bentuk list ke dalam variabel T."
   ]
  },
  {
   "cell_type": "code",
   "execution_count": 51,
   "metadata": {},
   "outputs": [
    {
     "name": "stdout",
     "output_type": "stream",
     "text": [
      "[0, 2, 4, 6, 8, 10, 12, 14, 16, 18]\n"
     ]
    }
   ],
   "source": [
    "number_list = [ x for x in range(20) if x % 2 == 0]\n",
    "print(number_list)"
   ]
  },
  {
   "cell_type": "code",
   "execution_count": 56,
   "metadata": {},
   "outputs": [
    {
     "name": "stdout",
     "output_type": "stream",
     "text": [
      "[2, 4, 6, 8, 10]\n"
     ]
    }
   ],
   "source": [
    "numbers = [1, 2, 3, 4, 5, 6, 7, 8, 9, 10]\n",
    "even_no = []\n",
    "for i in numbers:\n",
    "    if i%2 == 0:\n",
    "        even_no.append(i)\n",
    "print(even_no)"
   ]
  },
  {
   "cell_type": "code",
   "execution_count": 57,
   "metadata": {
    "colab": {},
    "colab_type": "code",
    "id": "xs3OWJP_Z5rb"
   },
   "outputs": [
    {
     "name": "stdout",
     "output_type": "stream",
     "text": [
      "[0, 4, 16, 36, 64]\n"
     ]
    }
   ],
   "source": [
    "S = [0, 1, 4, 9, 16, 25, 36, 49, 64, 81]\n",
    "T = []\n",
    "for i in S:\n",
    "    if i%2 == 0:\n",
    "        T.append(i)\n",
    "print(T)"
   ]
  },
  {
   "cell_type": "markdown",
   "metadata": {
    "colab_type": "text",
    "id": "Jjn-28CDaShb"
   },
   "source": [
    "Expected Output:\n",
    "\n",
    "[0, 4, 16, 36, 64]"
   ]
  },
  {
   "cell_type": "markdown",
   "metadata": {
    "colab_type": "text",
    "id": "gdBwjXz8zoMi"
   },
   "source": [
    "# Dictionary"
   ]
  },
  {
   "cell_type": "markdown",
   "metadata": {
    "colab_type": "text",
    "id": "fyoYEJKw6qoo"
   },
   "source": [
    "<h2>Soal 10: Akses Dictionary</h2>\n",
    "\n",
    "Lengkapi kode untuk menghasilkan suatu output yang di harapkan"
   ]
  },
  {
   "cell_type": "code",
   "execution_count": 63,
   "metadata": {
    "colab": {},
    "colab_type": "code",
    "id": "rs7ByDTw6qop"
   },
   "outputs": [
    {
     "name": "stdout",
     "output_type": "stream",
     "text": [
      "dict_keys(['spain', 'france', 'germany', 'norway'])\n",
      "paris\n"
     ]
    }
   ],
   "source": [
    "europe = {'spain':'madrid', 'france':'paris', 'germany':'berlin', 'norway':'oslo' }\n",
    "\n",
    "# print semua key yang ada di objek europe\n",
    "print(europe.keys())\n",
    "# print nilai dari key franche\n",
    "print(europe['france'])"
   ]
  },
  {
   "cell_type": "markdown",
   "metadata": {
    "colab_type": "text",
    "id": "LF8QRq8E6qov"
   },
   "source": [
    "Expected Output:\n",
    "\n",
    "dict_keys(['spain', 'france', 'germany', 'norway'])\n",
    "\n",
    "paris"
   ]
  },
  {
   "cell_type": "markdown",
   "metadata": {
    "colab_type": "text",
    "id": "qjMKbE9D6qow"
   },
   "source": [
    "<h2>Soal 11: Menambahkan key-value baru ke Dictionary</h2>\n",
    "\n",
    "Lengkapi kode untuk menghasilkan suatu output yang di harapkan"
   ]
  },
  {
   "cell_type": "code",
   "execution_count": 64,
   "metadata": {},
   "outputs": [
    {
     "name": "stdout",
     "output_type": "stream",
     "text": [
      "{'nama': 'faqih', 'umur': 26, 'tinggi': 177.6}\n",
      "{'nama': 'faqih', 'umur': 26, 'tinggi': 177.6, 'hobi': 'coding'}\n"
     ]
    }
   ],
   "source": [
    "# dictionary awal\n",
    "student = {\n",
    "  \"nama\" : \"faqih\",\n",
    "  \"umur\" : 26,\n",
    "  \"tinggi\" : 177.6\n",
    "}\n",
    "\n",
    "#cetak dictionary\n",
    "print(student)\n",
    "\n",
    "#tambah key dan value \n",
    "student[\"hobi\"] = \"coding\"\n",
    "\n",
    "#cetak dictionary\n",
    "print(student)"
   ]
  },
  {
   "cell_type": "code",
   "execution_count": 69,
   "metadata": {
    "colab": {},
    "colab_type": "code",
    "id": "rU7Z5dzC6qox"
   },
   "outputs": [
    {
     "name": "stdout",
     "output_type": "stream",
     "text": [
      "True\n"
     ]
    }
   ],
   "source": [
    "europe = {'spain':'madrid', 'france':'paris', 'germany':'berlin', 'norway':'oslo' }\n",
    "\n",
    "# tambahkan key itali ke objek dictionary dengan value roma\n",
    "europe[\"itali\"] = \"roma\"\n",
    "#print(europe)\n",
    "# cek apakah itali ada di dalam objek dictionary\n",
    "print('itali' in europe)"
   ]
  },
  {
   "cell_type": "markdown",
   "metadata": {
    "colab_type": "text",
    "id": "ur84PUyz6qo1"
   },
   "source": [
    "Expected Output:\n",
    "    \n",
    "True"
   ]
  },
  {
   "cell_type": "markdown",
   "metadata": {
    "colab_type": "text",
    "id": "bgilSLKl6qo2"
   },
   "source": [
    "<h2>Soal 12: Update dan Remove Dictinary</h2>\n",
    "    \n",
    "Lengkapi kode untuk menghasilkan suatu output yang di harapkan"
   ]
  },
  {
   "cell_type": "code",
   "execution_count": 77,
   "metadata": {
    "colab": {},
    "colab_type": "code",
    "id": "QO9EowXH6qo2"
   },
   "outputs": [
    {
     "name": "stdout",
     "output_type": "stream",
     "text": [
      "{'spain': 'madrid', 'france': 'paris', 'germany': 'berlin', 'norway': 'oslo', 'italy': 'rome', 'poland': 'warsaw'}\n"
     ]
    }
   ],
   "source": [
    "europe = {'spain':'madrid', 'france':'paris', 'germany':'bonn',\n",
    "          'norway':'oslo', 'italy':'rome', 'poland':'warsaw',\n",
    "          'australia':'vienna' }\n",
    "\n",
    "# update nilai ibukota german ke berlin\n",
    "#print(europe)\n",
    "europe[\"germany\"]=\"berlin\"\n",
    "\n",
    "# remove australia dari europa\n",
    "europe.pop(\"australia\")\n",
    "print(europe)"
   ]
  },
  {
   "cell_type": "markdown",
   "metadata": {
    "colab_type": "text",
    "id": "VDpHuoXS6qo6"
   },
   "source": [
    "Expected Output:\n",
    "\n",
    "{'spain': 'madrid', 'france': 'paris', 'germany': 'berlin', 'norway': 'oslo', 'italy': 'rome', 'poland': 'warsaw'}"
   ]
  },
  {
   "cell_type": "markdown",
   "metadata": {
    "colab_type": "text",
    "id": "FNWyId1S6qo7"
   },
   "source": [
    "<h2>Soal 13: Nested Dictionary</h2>\n",
    "    \n",
    "Lengkapi kode untuk menghasilkan suatu output yang di harapkan"
   ]
  },
  {
   "cell_type": "code",
   "execution_count": 82,
   "metadata": {
    "colab": {},
    "colab_type": "code",
    "id": "OAkJDiGd6qo7"
   },
   "outputs": [
    {
     "name": "stdout",
     "output_type": "stream",
     "text": [
      "80.62\n",
      "{'spain': {'capital': 'madrid', 'population': 46.77}, 'france': {'capital': 'paris', 'population': 66.03}, 'germany': {'capital': 'berlin', 'population': 80.62}, 'norway': {'capital': 'oslo', 'population': 5.084}, 'indonesia': {'capital': 'jakarta', 'poulasi': 250}}\n"
     ]
    }
   ],
   "source": [
    "country = { \n",
    "           'spain': { 'capital':'madrid', 'population':46.77 },\n",
    "           'france': { 'capital':'paris', 'population':66.03 },\n",
    "           'germany': { 'capital':'berlin', 'population':80.62 },\n",
    "           'norway': { 'capital':'oslo', 'population':5.084 } \n",
    "         }\n",
    "\n",
    "# berapa populasi dari kota german?\n",
    "print(country[\"germany\"]['population'])\n",
    "\n",
    "# update data baru, yaitu negara indonesia dengan capital jakarta dan poulasi 250\n",
    "country[\"indonesia\"] = {'capital': 'jakarta', 'poulasi': 250}\n",
    "\n",
    "print(country)"
   ]
  },
  {
   "cell_type": "markdown",
   "metadata": {
    "colab_type": "text",
    "id": "fKT0REFD6qo_"
   },
   "source": [
    "Expected Output:\n",
    "\n",
    "80.62\n",
    "\n",
    "{'spain': {'capital': 'madrid', 'population': 46.77}, 'france': {'capital': 'paris', 'population': 66.03}, 'germany': {'capital': 'berlin', 'population': 80.62}, 'norway': {'capital': 'oslo', 'population': 5.084}, 'indonesia': {'capital': 'jakarta', 'population': 250}}"
   ]
  },
  {
   "cell_type": "markdown",
   "metadata": {
    "colab_type": "text",
    "id": "xefUN_T56qpA"
   },
   "source": [
    "<h2>Soal 14: Loop Dictionary</h2>\n",
    "    \n",
    "Lengkapi kode untuk menghasilkan suatu output yang di harapkan"
   ]
  },
  {
   "cell_type": "code",
   "execution_count": 86,
   "metadata": {
    "colab": {},
    "colab_type": "code",
    "id": "SkYQ0sD76qpA"
   },
   "outputs": [
    {
     "name": "stdout",
     "output_type": "stream",
     "text": [
      "Ibukota spain adalah madrid\n",
      "Ibukota france adalah paris\n",
      "Ibukota germany adalah berlin\n",
      "Ibukota norway adalah oslo\n",
      "Ibukota indonesia adalah jakarta\n"
     ]
    }
   ],
   "source": [
    "country = { \n",
    "           'spain': { 'capital':'madrid', 'population':46.77 },\n",
    "           'france': { 'capital':'paris', 'population':66.03 },\n",
    "           'germany': { 'capital':'berlin', 'population':80.62 },\n",
    "           'norway': { 'capital':'oslo', 'population':5.084 },\n",
    "           'indonesia' : {'capital':'jakarta', 'population':250}\n",
    "         }\n",
    "\n",
    "for ct in country :\n",
    "    print('Ibukota '+ ct +' adalah '+country[ct]['capital'])"
   ]
  },
  {
   "cell_type": "markdown",
   "metadata": {
    "colab_type": "text",
    "id": "YjX6xAtj6qpE"
   },
   "source": [
    "Expected Output:\n",
    "    \n",
    "Ibukota spain adalah madrid\n",
    "\n",
    "Ibukota france adalah paris\n",
    "\n",
    "Ibukota germany adalah berlin\n",
    "\n",
    "Ibukota norway adalah oslo\n",
    "\n",
    "Ibukota indonesia adalah jakarta"
   ]
  },
  {
   "cell_type": "markdown",
   "metadata": {},
   "source": [
    "<h2>Tugas Tambahan</h2>\n",
    "1. Remove Duplicate List"
   ]
  },
  {
   "cell_type": "code",
   "execution_count": 11,
   "metadata": {},
   "outputs": [
    {
     "name": "stdout",
     "output_type": "stream",
     "text": [
      "[1, 2, 4, 6, 5, 7, 8]\n",
      "[1, 2, 4, 5, 6, 7, 8]\n"
     ]
    }
   ],
   "source": [
    "# solusi tanpa menggunakan set\n",
    "new_list = []\n",
    "dup = set()\n",
    "uniq = []\n",
    "def remove_duplicate(obj_list):\n",
    "    for i in obj_list :\n",
    "        if i not in new_list :\n",
    "            new_list.append(i)\n",
    "    return new_list\n",
    "\n",
    "# solusi dengan menggunakan set\n",
    "def remove_duplicate_with_set(obj_list):\n",
    "    for i in obj_list :\n",
    "        if i not in dup :\n",
    "            uniq.append(i)\n",
    "            dup.add(i)\n",
    "            new_list = list(dup)\n",
    "    return new_list\n",
    "\n",
    "obj_list = [1, 2, 4, 6, 2, 1, 4, 5, 7, 8, 6]\n",
    "print(remove_duplicate(obj_list))\n",
    "print(remove_duplicate_with_set(obj_list))\n",
    "\n",
    "#output :\n",
    "#[1, 2, 4, 6, 5, 7, 8]\n",
    "#[1, 2, 4, 5, 6, 7, 8]"
   ]
  },
  {
   "cell_type": "markdown",
   "metadata": {},
   "source": [
    "2. Membuat ChatBot Sederhana"
   ]
  },
  {
   "cell_type": "code",
   "execution_count": 30,
   "metadata": {},
   "outputs": [
    {
     "name": "stdout",
     "output_type": "stream",
     "text": [
      "maaf, aku tidak tahu jawaban dari pertanyaanmu\n",
      "maaf, aku tidak tahu jawaban dari pertanyaanmu\n",
      "orang-orang memanggil saya Arif Zainurrohman\n",
      "ya ampun masa tidak tahu, hari ini tanggal\n"
     ]
    }
   ],
   "source": [
    "# import library\n",
    "from datetime import datetime\n",
    "import random\n",
    "\n",
    "# ganti dengan sebuah nama\n",
    "nama  = \"Arif Zainurrohman\"\n",
    "# variabel tanggal\n",
    "tanggal = datetime.now().day\n",
    "# default variabel untuk pertanyaan tidak diketahui\n",
    "default = \"maaf, aku tidak tahu jawaban dari pertanyaanmu\"\n",
    "\n",
    "# Membuat objek dictionary berisi berbagai opsi jawaban\n",
    "\n",
    "# list jawaban untuk pertanyaan tentang nama\n",
    "jawaban_nama = [\n",
    "      \"nama saya  {0}\".format(nama),\n",
    "      \"orang-orang memanggil saya {0}\".format(nama),\n",
    "      \"panggil saja saya {0}\".format(nama)\n",
    "   ]\n",
    "\n",
    "# list jawaban untuk pertanyaan tentang tanggal\n",
    "jawaban_tanggal = [\n",
    "      \"hari ini tanggal {0}\".format(tanggal),\n",
    "      \"ya ampun masa tidak tahu, hari ini tanggal\".format(tanggal)\n",
    "    ]\n",
    "\n",
    "# opsi pertanyaan yang bisa dijawab\n",
    "pertanyaan = {\n",
    "  \"nama kamu siapa?\": jawaban_nama,\n",
    "  \"kamu siapa?\" : jawaban_nama,\n",
    "  \"tanggal berapa hari ini?\": jawaban_tanggal,\n",
    "  \"hari ini tanggal berapa?\" : jawaban_tanggal,\n",
    "  \"default\": default\n",
    "}\n",
    "\n",
    "# list jawaban untuk sebuah argument selain pertanyaan\n",
    "statement =  [\n",
    "                  'ceritakan lebih banyak!',\n",
    "                  'kenapa kamu berpikir begitu?',\n",
    "                  'sudah berapa lama kamu merasa seperti ini?',\n",
    "                  'Itu sangat menarik!',\n",
    "                  'oh wow!',\n",
    "                  ':)'\n",
    "              ]\n",
    "\n",
    "# respon keseluruhan\n",
    "responses = {\n",
    "    'pertanyaan' : pertanyaan,\n",
    "    'statement' : statement\n",
    "}\n",
    "#------\n",
    "             \n",
    "# ayo buat chatbotmu\n",
    "def chatbot(message):\n",
    "    if message == \"Selamat pagi\" :\n",
    "        random.choice['statement']        \n",
    "    elif message in pertanyaan :\n",
    "        responses['pertanyaan'] = message;\n",
    "        responses['statement'] = random.choice(pertanyaan[message])\n",
    "    else :\n",
    "        responses['pertanyaan'] = message;\n",
    "        responses['statement'] = pertanyaan['default']\n",
    "    return responses['statement']\n",
    "    \n",
    "print(chatbot('Selamat Pagi'))\n",
    "print(chatbot('Mau bermain bersamaku?'))\n",
    "print(chatbot('nama kamu siapa?'))\n",
    "print(chatbot('hari ini tanggal berapa?'))\n",
    "\n",
    "#output :\n",
    "#:)\n",
    "#maaf, aku tidak tahu jawaban dari pertanyaanmu\n",
    "#orang-orang memanggil saya Nama Anda\n",
    "#ya ampun masa tidak tahu, hari ini tanggal"
   ]
  },
  {
   "cell_type": "code",
   "execution_count": null,
   "metadata": {},
   "outputs": [],
   "source": []
  }
 ],
 "metadata": {
  "colab": {
   "collapsed_sections": [],
   "name": "Tugas Hari 4.ipynb",
   "provenance": []
  },
  "kernelspec": {
   "display_name": "Python 3",
   "language": "python",
   "name": "python3"
  },
  "language_info": {
   "codemirror_mode": {
    "name": "ipython",
    "version": 3
   },
   "file_extension": ".py",
   "mimetype": "text/x-python",
   "name": "python",
   "nbconvert_exporter": "python",
   "pygments_lexer": "ipython3",
   "version": "3.8.3"
  }
 },
 "nbformat": 4,
 "nbformat_minor": 1
}
