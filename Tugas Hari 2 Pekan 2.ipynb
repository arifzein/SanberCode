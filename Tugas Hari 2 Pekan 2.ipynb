{
 "cells": [
  {
   "cell_type": "code",
   "execution_count": 8,
   "metadata": {
    "colab": {},
    "colab_type": "code",
    "id": "GyakVoXhBGrv",
    "outputId": "39b8ca38-73c2-4f96-a16b-9898575919b9"
   },
   "outputs": [
    {
     "data": {
      "text/html": [
       "<div>\n",
       "<style scoped>\n",
       "    .dataframe tbody tr th:only-of-type {\n",
       "        vertical-align: middle;\n",
       "    }\n",
       "\n",
       "    .dataframe tbody tr th {\n",
       "        vertical-align: top;\n",
       "    }\n",
       "\n",
       "    .dataframe thead th {\n",
       "        text-align: right;\n",
       "    }\n",
       "</style>\n",
       "<table border=\"1\" class=\"dataframe\">\n",
       "  <thead>\n",
       "    <tr style=\"text-align: right;\">\n",
       "      <th></th>\n",
       "      <th>siswa_id</th>\n",
       "      <th>pelajaran</th>\n",
       "      <th>nilai</th>\n",
       "      <th>jenis-kelamin</th>\n",
       "      <th>kelas</th>\n",
       "    </tr>\n",
       "  </thead>\n",
       "  <tbody>\n",
       "    <tr>\n",
       "      <th>0</th>\n",
       "      <td>1</td>\n",
       "      <td>Kimia</td>\n",
       "      <td>70</td>\n",
       "      <td>perempuan</td>\n",
       "      <td>12A</td>\n",
       "    </tr>\n",
       "    <tr>\n",
       "      <th>1</th>\n",
       "      <td>2</td>\n",
       "      <td>Matematika</td>\n",
       "      <td>24</td>\n",
       "      <td>laki-laki</td>\n",
       "      <td>12B</td>\n",
       "    </tr>\n",
       "    <tr>\n",
       "      <th>2</th>\n",
       "      <td>3</td>\n",
       "      <td>Ekonomi</td>\n",
       "      <td>12</td>\n",
       "      <td>laki-laki</td>\n",
       "      <td>12B</td>\n",
       "    </tr>\n",
       "    <tr>\n",
       "      <th>3</th>\n",
       "      <td>4</td>\n",
       "      <td>Biologi</td>\n",
       "      <td>58</td>\n",
       "      <td>laki-laki</td>\n",
       "      <td>12A</td>\n",
       "    </tr>\n",
       "    <tr>\n",
       "      <th>4</th>\n",
       "      <td>5</td>\n",
       "      <td>Fisika</td>\n",
       "      <td>28</td>\n",
       "      <td>perempuan</td>\n",
       "      <td>12D</td>\n",
       "    </tr>\n",
       "  </tbody>\n",
       "</table>\n",
       "</div>"
      ],
      "text/plain": [
       "   siswa_id   pelajaran  nilai jenis-kelamin kelas\n",
       "0         1       Kimia     70     perempuan   12A\n",
       "1         2  Matematika     24     laki-laki   12B\n",
       "2         3     Ekonomi     12     laki-laki   12B\n",
       "3         4     Biologi     58     laki-laki   12A\n",
       "4         5      Fisika     28     perempuan   12D"
      ]
     },
     "execution_count": 8,
     "metadata": {},
     "output_type": "execute_result"
    }
   ],
   "source": [
    "# Persiapan membuat data\n",
    "import pandas as pd\n",
    "import random\n",
    "\n",
    "pelajaran = ['Matematika', 'Fisika', 'Biologi', 'Kimia', 'Geologi', 'Ekonomi']\n",
    "kelas = ['12A', '12B', '12C', '12D']\n",
    "\n",
    "hasil_nilai = {\n",
    "    'siswa_id' : range(1, 21),\n",
    "    'pelajaran' : [random.choice(pelajaran) for i in range(20)],\n",
    "    'nilai' : [random.choice(range(0, 100)) for i in range(20)],\n",
    "    'jenis-kelamin' : [random.choice(['laki-laki', 'perempuan']) for i in range(20)],\n",
    "    'kelas' : [random.choice(kelas) for i in range(20)]\n",
    "}\n",
    "\n",
    "df = pd.DataFrame(hasil_nilai)\n",
    "df.head()"
   ]
  },
  {
   "cell_type": "markdown",
   "metadata": {
    "colab_type": "text",
    "id": "aNoScqypBGr5"
   },
   "source": [
    "<h2>Soal 1: Indexing</h2>\n",
    "\n",
    "1. Lakukan indexing terhadap dataframe untuk mengakses column nilai dan kelas saja\n",
    "2. Lakukan indexing terhadap dataframe untuk mengakses row 5 sampai 10 beserta column pelajaran dan nilai"
   ]
  },
  {
   "cell_type": "code",
   "execution_count": 32,
   "metadata": {
    "colab": {},
    "colab_type": "code",
    "id": "rKmgvnS2BGr6"
   },
   "outputs": [
    {
     "name": "stdout",
     "output_type": "stream",
     "text": [
      "             siswa_id   pelajaran jenis-kelamin\n",
      "nilai kelas                                    \n",
      "70    12A           1       Kimia     perempuan\n",
      "24    12B           2  Matematika     laki-laki\n",
      "12    12B           3     Ekonomi     laki-laki\n",
      "58    12A           4     Biologi     laki-laki\n",
      "28    12D           5      Fisika     perempuan\n",
      "87    12B           6       Kimia     perempuan\n",
      "44    12C           7      Fisika     perempuan\n",
      "87    12D           8     Geologi     laki-laki\n",
      "70    12B           9  Matematika     laki-laki\n",
      "61    12A          10      Fisika     perempuan\n",
      "77    12D          11      Fisika     laki-laki\n",
      "8     12C          12       Kimia     perempuan\n",
      "21    12D          13       Kimia     perempuan\n",
      "94    12D          14     Biologi     laki-laki\n",
      "9     12C          15       Kimia     laki-laki\n",
      "3     12A          16     Geologi     perempuan\n",
      "88    12A          17       Kimia     laki-laki\n",
      "65    12B          18     Ekonomi     perempuan\n",
      "92    12B          19     Biologi     perempuan\n",
      "13    12A          20  Matematika     laki-laki\n",
      "    pelajaran  nilai\n",
      "4      Fisika     28\n",
      "5       Kimia     87\n",
      "6      Fisika     44\n",
      "7     Geologi     87\n",
      "8  Matematika     70\n",
      "9      Fisika     61\n"
     ]
    }
   ],
   "source": [
    "# code here\n",
    "#df[['nilai','kelas']]\n",
    "print(df.set_index(['nilai','kelas']))\n",
    "print(df.iloc[4:10,1:3])"
   ]
  },
  {
   "cell_type": "markdown",
   "metadata": {
    "colab_type": "text",
    "id": "F55zUl5GBGr_"
   },
   "source": [
    "<h2>Soal 2: Filter DataFrame Dengan Boolean</h2>\n",
    "\n",
    "1. Tampilkan semua data siswa pada mata pelajaran Ekonomi dan Fisika\n",
    "2. Tampilkan semua data siswa yang mempunyai nilai lebih dari 50 di mata pelajaran Kimia \n",
    "3. Tampilkan semua data yang mempunyai nilai lebih dari 70, berjnis kelamin perempuan dan di kelas 12C"
   ]
  },
  {
   "cell_type": "code",
   "execution_count": 40,
   "metadata": {
    "colab": {},
    "colab_type": "code",
    "id": "eB5oSf_KBGsA"
   },
   "outputs": [
    {
     "name": "stdout",
     "output_type": "stream",
     "text": [
      "    siswa_id pelajaran  nilai jenis-kelamin kelas\n",
      "2          3   Ekonomi     12     laki-laki   12B\n",
      "4          5    Fisika     28     perempuan   12D\n",
      "6          7    Fisika     44     perempuan   12C\n",
      "9         10    Fisika     61     perempuan   12A\n",
      "10        11    Fisika     77     laki-laki   12D\n",
      "17        18   Ekonomi     65     perempuan   12B\n",
      "    siswa_id pelajaran  nilai jenis-kelamin kelas\n",
      "0          1     Kimia     70     perempuan   12A\n",
      "5          6     Kimia     87     perempuan   12B\n",
      "16        17     Kimia     88     laki-laki   12A\n",
      "Empty DataFrame\n",
      "Columns: [siswa_id, pelajaran, nilai, jenis-kelamin, kelas]\n",
      "Index: []\n"
     ]
    }
   ],
   "source": [
    "# code here\n",
    "print(df[df[\"pelajaran\"].isin([\"Ekonomi\", \"Fisika\"])])\n",
    "print(df[(df[\"pelajaran\"] == \"Kimia\") & (df[\"nilai\"] > 50)])\n",
    "print(df[(df[\"nilai\"] > 70) & (df[\"jenis-kelamin\"] == \"perempuan\") & (df[\"kelas\"] == \"12C\")])"
   ]
  },
  {
   "cell_type": "markdown",
   "metadata": {
    "colab_type": "text",
    "id": "6Od6R3H1BGsE"
   },
   "source": [
    "<h2>Soal 3: Data Transformation</h2>\n",
    "\n",
    "lakukan data transformasi terhadap column 'nilai' dengan fungsi transformasi, berikut rumus dari normalisasi\n",
    "\n",
    "![alt text](https://drive.google.com/uc?id=1wed-EbRSTA0JP1ceDp6lcKBqH2yJ4aa3)"
   ]
  },
  {
   "cell_type": "code",
   "execution_count": 46,
   "metadata": {
    "colab": {},
    "colab_type": "code",
    "id": "qeV_iH8nBGsF"
   },
   "outputs": [
    {
     "name": "stdout",
     "output_type": "stream",
     "text": [
      "[[0.26192257 0.08980202 0.04490101 0.21702155 0.10476903 0.32553233\n",
      "  0.16463704 0.32553233 0.26192257 0.22824681 0.28811482 0.02993401\n",
      "  0.07857677 0.35172459 0.03367576 0.01122525 0.32927408 0.24321381\n",
      "  0.34424109 0.04864276]]\n"
     ]
    }
   ],
   "source": [
    "# code here\n",
    "from sklearn import preprocessing\n",
    "import numpy as np\n",
    "\n",
    "x_array = np.array(df['nilai'])\n",
    "normalized_X = preprocessing.normalize([x_array])\n",
    "#print(x_array)\n",
    "print(normalized_X)"
   ]
  },
  {
   "cell_type": "code",
   "execution_count": 50,
   "metadata": {},
   "outputs": [
    {
     "data": {
      "text/plain": [
       "<matplotlib.axes._subplots.AxesSubplot at 0x1ca718fda90>"
      ]
     },
     "execution_count": 50,
     "metadata": {},
     "output_type": "execute_result"
    },
    {
     "data": {
      "image/png": "[encoded data removed]",
      "text/plain": [
       "<Figure size 432x288 with 1 Axes>"
      ]
     },
     "metadata": {
      "needs_background": "light"
     },
     "output_type": "display_data"
    }
   ],
   "source": [
    "import pandas as pd\n",
    "from sklearn import preprocessing\n",
    "%matplotlib inline\n",
    "data_frame = pd.DataFrame(df['nilai'])\n",
    "data_frame['nilai'].plot(kind='bar')"
   ]
  },
  {
   "cell_type": "code",
   "execution_count": 51,
   "metadata": {},
   "outputs": [],
   "source": [
    "A = data_frame.values #returns an array\n",
    "min_max_scaler = preprocessing.MinMaxScaler()\n",
    "x_scaled = min_max_scaler.fit_transform(A)"
   ]
  },
  {
   "cell_type": "code",
   "execution_count": 53,
   "metadata": {},
   "outputs": [
    {
     "data": {
      "text/plain": [
       "<matplotlib.axes._subplots.AxesSubplot at 0x1ca720872b0>"
      ]
     },
     "execution_count": 53,
     "metadata": {},
     "output_type": "execute_result"
    },
    {
     "data": {
      "image/png": "[encoded data removed]",
      "text/plain": [
       "<Figure size 432x288 with 1 Axes>"
      ]
     },
     "metadata": {
      "needs_background": "light"
     },
     "output_type": "display_data"
    }
   ],
   "source": [
    "normalized_dataframe = pd.DataFrame(x_scaled)\n",
    "normalized_dataframe\n",
    "normalized_dataframe.plot(kind='bar')"
   ]
  },
  {
   "cell_type": "code",
   "execution_count": 54,
   "metadata": {},
   "outputs": [
    {
     "data": {
      "text/html": [
       "<div>\n",
       "<style scoped>\n",
       "    .dataframe tbody tr th:only-of-type {\n",
       "        vertical-align: middle;\n",
       "    }\n",
       "\n",
       "    .dataframe tbody tr th {\n",
       "        vertical-align: top;\n",
       "    }\n",
       "\n",
       "    .dataframe thead th {\n",
       "        text-align: right;\n",
       "    }\n",
       "</style>\n",
       "<table border=\"1\" class=\"dataframe\">\n",
       "  <thead>\n",
       "    <tr style=\"text-align: right;\">\n",
       "      <th></th>\n",
       "      <th>0</th>\n",
       "    </tr>\n",
       "  </thead>\n",
       "  <tbody>\n",
       "    <tr>\n",
       "      <th>0</th>\n",
       "      <td>0.736264</td>\n",
       "    </tr>\n",
       "    <tr>\n",
       "      <th>1</th>\n",
       "      <td>0.230769</td>\n",
       "    </tr>\n",
       "    <tr>\n",
       "      <th>2</th>\n",
       "      <td>0.098901</td>\n",
       "    </tr>\n",
       "    <tr>\n",
       "      <th>3</th>\n",
       "      <td>0.604396</td>\n",
       "    </tr>\n",
       "    <tr>\n",
       "      <th>4</th>\n",
       "      <td>0.274725</td>\n",
       "    </tr>\n",
       "    <tr>\n",
       "      <th>5</th>\n",
       "      <td>0.923077</td>\n",
       "    </tr>\n",
       "    <tr>\n",
       "      <th>6</th>\n",
       "      <td>0.450549</td>\n",
       "    </tr>\n",
       "    <tr>\n",
       "      <th>7</th>\n",
       "      <td>0.923077</td>\n",
       "    </tr>\n",
       "    <tr>\n",
       "      <th>8</th>\n",
       "      <td>0.736264</td>\n",
       "    </tr>\n",
       "    <tr>\n",
       "      <th>9</th>\n",
       "      <td>0.637363</td>\n",
       "    </tr>\n",
       "    <tr>\n",
       "      <th>10</th>\n",
       "      <td>0.813187</td>\n",
       "    </tr>\n",
       "    <tr>\n",
       "      <th>11</th>\n",
       "      <td>0.054945</td>\n",
       "    </tr>\n",
       "    <tr>\n",
       "      <th>12</th>\n",
       "      <td>0.197802</td>\n",
       "    </tr>\n",
       "    <tr>\n",
       "      <th>13</th>\n",
       "      <td>1.000000</td>\n",
       "    </tr>\n",
       "    <tr>\n",
       "      <th>14</th>\n",
       "      <td>0.065934</td>\n",
       "    </tr>\n",
       "    <tr>\n",
       "      <th>15</th>\n",
       "      <td>0.000000</td>\n",
       "    </tr>\n",
       "    <tr>\n",
       "      <th>16</th>\n",
       "      <td>0.934066</td>\n",
       "    </tr>\n",
       "    <tr>\n",
       "      <th>17</th>\n",
       "      <td>0.681319</td>\n",
       "    </tr>\n",
       "    <tr>\n",
       "      <th>18</th>\n",
       "      <td>0.978022</td>\n",
       "    </tr>\n",
       "    <tr>\n",
       "      <th>19</th>\n",
       "      <td>0.109890</td>\n",
       "    </tr>\n",
       "  </tbody>\n",
       "</table>\n",
       "</div>"
      ],
      "text/plain": [
       "           0\n",
       "0   0.736264\n",
       "1   0.230769\n",
       "2   0.098901\n",
       "3   0.604396\n",
       "4   0.274725\n",
       "5   0.923077\n",
       "6   0.450549\n",
       "7   0.923077\n",
       "8   0.736264\n",
       "9   0.637363\n",
       "10  0.813187\n",
       "11  0.054945\n",
       "12  0.197802\n",
       "13  1.000000\n",
       "14  0.065934\n",
       "15  0.000000\n",
       "16  0.934066\n",
       "17  0.681319\n",
       "18  0.978022\n",
       "19  0.109890"
      ]
     },
     "execution_count": 54,
     "metadata": {},
     "output_type": "execute_result"
    }
   ],
   "source": [
    "normalized_dataframe"
   ]
  },
  {
   "cell_type": "code",
   "execution_count": null,
   "metadata": {},
   "outputs": [],
   "source": []
  }
 ],
 "metadata": {
  "colab": {
   "name": "Tugas Hari 2 Pekan 2.ipynb",
   "provenance": []
  },
  "kernelspec": {
   "display_name": "Python 3",
   "language": "python",
   "name": "python3"
  },
  "language_info": {
   "codemirror_mode": {
    "name": "ipython",
    "version": 3
   },
   "file_extension": ".py",
   "mimetype": "text/x-python",
   "name": "python",
   "nbconvert_exporter": "python",
   "pygments_lexer": "ipython3",
   "version": "3.8.3"
  }
 },
 "nbformat": 4,
 "nbformat_minor": 1
}
