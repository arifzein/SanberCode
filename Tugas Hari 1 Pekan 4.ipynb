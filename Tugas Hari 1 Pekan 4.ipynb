{
 "cells": [
  {
   "cell_type": "markdown",
   "metadata": {
    "colab_type": "text",
    "id": "47NOwo3UNcRl"
   },
   "source": [
    "<h1>Soal 1: Pemahaman Machine Learning</h1>\n",
    "\n",
    "Jawab/Kerjakan pertanyaan/perintah di bawah ini dengan bahasa kalian sendiri:\n",
    "\n",
    "- Apa itu machine learning?\n",
    "\n",
    "Machine Learning (ML) merupakan sebuah metode dari seuatu algoritma untuk membentuk kecerdasan buatan. \n",
    "\n",
    "- Apa itu data feature dan data target?\n",
    "\n",
    "Data features juga disebut sebagai predictor, dalam dunia statistik sebagai independent variables sedangkan ata target dikenal juga sebagai label dan dalam dunia statistik sebagai dependet variables\n",
    "\n",
    "- Apa Perbedaan Supervised Learning dan Unsupervised Learning?\n",
    "\n",
    "Supervised Learning ialah metode belajar mesin dimana Algoritma belajar menggunakan labeled data pada input maupun output. Sedangkan Unsupervised Learning ialah metode belajar mesin dimana Algoritma belajar menggunakan no labeled data pada input maupun output.\n",
    "\n",
    "- Apa Jenis2 yang ada di dalam Supervised Learning? Jelaskan Perbedaannya!\n",
    "\n",
    "Beberapa contoh sistem algoritma yang menerapkan metode Supervised Learning adalah algoritma Hebbian (Hebb Rule), algoritma Perceptron, algoritma Adaline, algoritma Boltzman, algoritma Hapfield, dan algoritma Backpropagation.\n",
    "\n",
    "\n",
    "- Apa perbedaan Hyperparameter dan Parameter?\n",
    "\n",
    "Hyperparameter merupakan konfigurasi variabel terhadap model. Hyperparameter didefinisikan di awal sebelum model dilatih dengan data. Hyperparameter mempengaruhi kecepatan dan akurasi proses belajar model. Adapun Parameter ialah variabel yang nilainya diestimasikan dari dataset, nilai yang dipelajari dari data selama training. Nilai parameter model tidak diatur secara manual. Mereka diperkirakan dari training data. Ia merupakan variabel internal model ML. \n",
    "\n",
    "- Sebutkan Langkah-langkah dalam mengaplikasikan algoritma apapun dalam machine learning!\n",
    "\n",
    "\n",
    "\n",
    "    1. Pilih algoritma model yang akan digunakan. \n",
    "\n",
    "    2. Pemilihan model ini berdasarkan problem yang akan diselesaikan apakah classification atau regression problem.\n",
    "\n",
    "    3. Pilih Hyperparameter ketika membuat objek model.\n",
    "\n",
    "    4. Pisahkan antara data feature maupun data target.\n",
    "\n",
    "    5. Perintahkan model untuk mempelajari data dengan menggunakan metode .fit()\n",
    "\n",
    "    6. Applikasikan model terhadap data test dengan menggunakan metode .predict()"
   ]
  },
  {
   "cell_type": "markdown",
   "metadata": {
    "colab_type": "text",
    "id": "58I1LJFoNcRv"
   },
   "source": [
    "---\n"
   ]
  },
  {
   "cell_type": "markdown",
   "metadata": {
    "colab_type": "text",
    "id": "jI50HJDgNcRz"
   },
   "source": [
    "<h1>Soal 2: Pemahaman Machine Learning</h1>\n",
    "\n",
    "Pelajarilah secara garis besar suatu model/algoritma machine learning, kemudian aplikasikan untuk membuat model bagi data (variable x, y) di bawah ini. Kemudian buatlah prediksi terhadap data training dan data baru di interval 20-30.\n",
    "\n",
    "- Plot data asli, data hasil prediksi terhadap data training, data hasil prediksi terhadap data baru\n",
    "- Tunjukan beberapa parameter yang dimiliki model yang telah kalian buat"
   ]
  },
  {
   "cell_type": "code",
   "execution_count": 17,
   "metadata": {
    "colab": {},
    "colab_type": "code",
    "id": "QotZc3UbNcR9",
    "outputId": "eac5b4f0-6932-446a-ebb2-5eaefadd583b"
   },
   "outputs": [
    {
     "ename": "ValueError",
     "evalue": "operands could not be broadcast together with shapes (50,) (30,) ",
     "output_type": "error",
     "traceback": [
      "\u001b[1;31m---------------------------------------------------------------------------\u001b[0m",
      "\u001b[1;31mValueError\u001b[0m                                Traceback (most recent call last)",
      "\u001b[1;32m<ipython-input-17-f4f7902add1e>\u001b[0m in \u001b[0;36m<module>\u001b[1;34m\u001b[0m\n\u001b[0;32m     12\u001b[0m \u001b[0mregressor\u001b[0m \u001b[1;33m=\u001b[0m \u001b[0mDecisionTreeRegressor\u001b[0m\u001b[1;33m(\u001b[0m\u001b[0mrandom_state\u001b[0m \u001b[1;33m=\u001b[0m \u001b[1;36m0\u001b[0m\u001b[1;33m)\u001b[0m\u001b[1;33m\u001b[0m\u001b[1;33m\u001b[0m\u001b[0m\n\u001b[0;32m     13\u001b[0m \u001b[0mx_new\u001b[0m \u001b[1;33m=\u001b[0m \u001b[0mnp\u001b[0m\u001b[1;33m.\u001b[0m\u001b[0marange\u001b[0m\u001b[1;33m(\u001b[0m\u001b[1;36m20\u001b[0m\u001b[1;33m,\u001b[0m \u001b[1;36m30\u001b[0m\u001b[1;33m,\u001b[0m \u001b[1;36m0.5\u001b[0m\u001b[1;33m)\u001b[0m\u001b[1;33m\u001b[0m\u001b[1;33m\u001b[0m\u001b[0m\n\u001b[1;32m---> 14\u001b[1;33m \u001b[0my_new\u001b[0m \u001b[1;33m=\u001b[0m \u001b[0mx\u001b[0m\u001b[1;33m**\u001b[0m\u001b[1;36m2\u001b[0m \u001b[1;33m+\u001b[0m \u001b[1;36m2\u001b[0m \u001b[1;33m*\u001b[0m \u001b[0mx\u001b[0m \u001b[1;33m+\u001b[0m \u001b[1;33m-\u001b[0m \u001b[1;36m1\u001b[0m \u001b[1;33m+\u001b[0m \u001b[0mnp\u001b[0m\u001b[1;33m.\u001b[0m\u001b[0marange\u001b[0m\u001b[1;33m(\u001b[0m\u001b[1;36m30\u001b[0m\u001b[1;33m)\u001b[0m\u001b[1;33m\u001b[0m\u001b[1;33m\u001b[0m\u001b[0m\n\u001b[0m\u001b[0;32m     15\u001b[0m \u001b[0mX_train\u001b[0m\u001b[1;33m,\u001b[0m \u001b[0mX_test\u001b[0m\u001b[1;33m,\u001b[0m \u001b[0my_train\u001b[0m\u001b[1;33m,\u001b[0m \u001b[0my_test\u001b[0m \u001b[1;33m=\u001b[0m \u001b[0mtrain_test_split\u001b[0m\u001b[1;33m(\u001b[0m\u001b[0mx_new\u001b[0m\u001b[1;33m,\u001b[0m \u001b[0my_new\u001b[0m\u001b[1;33m,\u001b[0m \u001b[0mtest_size\u001b[0m\u001b[1;33m=\u001b[0m\u001b[1;36m0.2\u001b[0m\u001b[1;33m,\u001b[0m \u001b[0mrandom_state\u001b[0m\u001b[1;33m=\u001b[0m\u001b[1;36m0\u001b[0m\u001b[1;33m)\u001b[0m\u001b[1;33m\u001b[0m\u001b[1;33m\u001b[0m\u001b[0m\n\u001b[0;32m     16\u001b[0m \u001b[0mregressor\u001b[0m\u001b[1;33m.\u001b[0m\u001b[0mfit\u001b[0m\u001b[1;33m(\u001b[0m\u001b[0mx_new\u001b[0m\u001b[1;33m,\u001b[0m \u001b[0my_new\u001b[0m\u001b[1;33m)\u001b[0m\u001b[1;33m\u001b[0m\u001b[1;33m\u001b[0m\u001b[0m\n",
      "\u001b[1;31mValueError\u001b[0m: operands could not be broadcast together with shapes (50,) (30,) "
     ]
    }
   ],
   "source": [
    "import matplotlib.pyplot as plt\n",
    "import numpy as np\n",
    "from sklearn.model_selection import train_test_split\n",
    "from sklearn.tree import DecisionTreeRegressor\n",
    "\n",
    "rng = np.random.RandomState(42)\n",
    "x = 20 * rng.rand(50)\n",
    "y = x**2 + 2 * x + - 1 + rng.randn(50)\n",
    "\n",
    "\n",
    "# data yang akan di prediksi\n",
    "regressor = DecisionTreeRegressor(random_state = 0) \n",
    "x_new = np.arange(20, 30, 0.5)\n",
    "y_new = x**2 + 2 * x + - 1 + np.arange(30)\n",
    "\n",
    "X_train, X_test, y_train, y_test = train_test_split(x_new, y_new, test_size=0.2, random_state=0)\n",
    "regressor.fit(x_new, y_new) \n",
    "y_pred = regressor.predict(X_test)\n",
    "\n",
    "fig, ax = plt.subplots(figsize=(12, 6))\n",
    "ax.scatter(x, y)\n",
    "ax.set_xlabel('X-Value')\n",
    "ax.set_ylabel('Y-Value')\n",
    "plt.show()"
   ]
  },
  {
   "cell_type": "markdown",
   "metadata": {
    "colab_type": "text",
    "id": "3wrMfFusNcS6"
   },
   "source": [
    "Contoh jawaban hasil pembuatan model dengan algoritma DecisionTreeRegressor (jawaban tidak harus sama):\n",
    "\n",
    "![alt text](https://drive.google.com/uc?id=1R0mGnMp3DqEsHDiH2_IL4XSS2Roew0wo)"
   ]
  },
  {
   "cell_type": "markdown",
   "metadata": {
    "colab_type": "text",
    "id": "4Vs7RhxRNcS_"
   },
   "source": [
    "Contoh jawaban parameters (tidak harus sama):\n",
    "\n",
    "- Feature Importance : array([1.])\n",
    "- n features : 1\n",
    "  \n",
    "Tree Graph :\n",
    "\n",
    "![alt text](https://drive.google.com/uc?id=1GM0ba_qjm_e5oLhE9v6pVt2uRBBW6FH9)"
   ]
  },
  {
   "cell_type": "code",
   "execution_count": null,
   "metadata": {
    "colab": {},
    "colab_type": "code",
    "id": "AQKlYTdSbL9o"
   },
   "outputs": [],
   "source": [
    "# Code here"
   ]
  }
 ],
 "metadata": {
  "colab": {
   "collapsed_sections": [],
   "name": "Tugas Hari 1 Pekan 4.ipynb",
   "provenance": []
  },
  "kernelspec": {
   "display_name": "Python 3",
   "language": "python",
   "name": "python3"
  },
  "language_info": {
   "codemirror_mode": {
    "name": "ipython",
    "version": 3
   },
   "file_extension": ".py",
   "mimetype": "text/x-python",
   "name": "python",
   "nbconvert_exporter": "python",
   "pygments_lexer": "ipython3",
   "version": "3.8.3"
  }
 },
 "nbformat": 4,
 "nbformat_minor": 1
}
